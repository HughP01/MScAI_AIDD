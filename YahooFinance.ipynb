{
 "cells": [
  {
   "cell_type": "code",
   "execution_count": 11,
   "id": "fd5ae549-5597-46e5-ab63-08a55e26f6ee",
   "metadata": {},
   "outputs": [],
   "source": [
    "import yfinance as yf\n",
    "import pandas as pd\n",
    "import seaborn as sns\n",
    "import matplotlib.pyplot as plt\n",
    "from datetime import datetime"
   ]
  },
  {
   "cell_type": "code",
   "execution_count": 12,
   "id": "adcd49d5-4a84-4c7c-9db2-1ada3e9e2b63",
   "metadata": {},
   "outputs": [],
   "source": [
    "sp100_url = \"https://en.wikipedia.org/wiki/S%26P_100\"\n",
    "sp100_table = pd.read_html(sp100_url)\n",
    "tickers = sp100_table[2]['Symbol'].tolist()\n",
    "\n",
    "#Time range here\n",
    "start_date = \"2023-12-31\"\n",
    "end_date = \"2024-12-31\""
   ]
  },
  {
   "cell_type": "code",
   "execution_count": 13,
   "id": "369b28e3-b7c4-476e-8ec9-0464a0244530",
   "metadata": {},
   "outputs": [
    {
     "name": "stderr",
     "output_type": "stream",
     "text": [
      "$BRK.B: possibly delisted; no timezone found\n"
     ]
    }
   ],
   "source": [
    "sp100_data = {}\n",
    "for ticker in tickers:\n",
    "    try:\n",
    "        stock = yf.Ticker(ticker)\n",
    "        hist = stock.history(start=start_date, end=end_date, interval=\"1d\")\n",
    "        sp100_data[ticker] = hist\n",
    "    except Exception as e:\n",
    "        print(f\"Error fetching data for {ticker}: {e}\")"
   ]
  },
  {
   "cell_type": "code",
   "execution_count": 14,
   "id": "3cc3f5c2-0308-45d0-91b1-ce82214cfe84",
   "metadata": {},
   "outputs": [
    {
     "name": "stderr",
     "output_type": "stream",
     "text": [
      "C:\\Users\\hughp\\AppData\\Local\\Temp\\ipykernel_37676\\2558842558.py:1: FutureWarning: The behavior of array concatenation with empty entries is deprecated. In a future version, this will no longer exclude empty items when determining the result dtype. To retain the old behavior, exclude the empty entries before the concat operation.\n",
      "  combined_data = pd.concat(sp100_data, names=[\"Ticker\", \"Date\"])\n"
     ]
    }
   ],
   "source": [
    "combined_data = pd.concat(sp100_data, names=[\"Ticker\", \"Date\"])\n",
    "combined_data.to_csv(\"sp100_daily_combined.csv\")"
   ]
  },
  {
   "cell_type": "code",
   "execution_count": 15,
   "id": "5fd638f3-4afc-40b2-9de1-2a9c8d95d2a7",
   "metadata": {},
   "outputs": [
    {
     "data": {
      "text/html": [
       "<div>\n",
       "<style scoped>\n",
       "    .dataframe tbody tr th:only-of-type {\n",
       "        vertical-align: middle;\n",
       "    }\n",
       "\n",
       "    .dataframe tbody tr th {\n",
       "        vertical-align: top;\n",
       "    }\n",
       "\n",
       "    .dataframe thead th {\n",
       "        text-align: right;\n",
       "    }\n",
       "</style>\n",
       "<table border=\"1\" class=\"dataframe\">\n",
       "  <thead>\n",
       "    <tr style=\"text-align: right;\">\n",
       "      <th></th>\n",
       "      <th>Ticker</th>\n",
       "      <th>Date</th>\n",
       "      <th>Open</th>\n",
       "      <th>High</th>\n",
       "      <th>Low</th>\n",
       "      <th>Close</th>\n",
       "      <th>Volume</th>\n",
       "      <th>Dividends</th>\n",
       "      <th>Stock Splits</th>\n",
       "      <th>Adj Close</th>\n",
       "    </tr>\n",
       "  </thead>\n",
       "  <tbody>\n",
       "    <tr>\n",
       "      <th>0</th>\n",
       "      <td>AAPL</td>\n",
       "      <td>2024-01-02 00:00:00-05:00</td>\n",
       "      <td>186.033057</td>\n",
       "      <td>187.315366</td>\n",
       "      <td>182.792518</td>\n",
       "      <td>184.532074</td>\n",
       "      <td>82488700.0</td>\n",
       "      <td>0.0</td>\n",
       "      <td>0.0</td>\n",
       "      <td>NaN</td>\n",
       "    </tr>\n",
       "    <tr>\n",
       "      <th>1</th>\n",
       "      <td>AAPL</td>\n",
       "      <td>2024-01-03 00:00:00-05:00</td>\n",
       "      <td>183.120571</td>\n",
       "      <td>184.770668</td>\n",
       "      <td>182.335277</td>\n",
       "      <td>183.150391</td>\n",
       "      <td>58414500.0</td>\n",
       "      <td>0.0</td>\n",
       "      <td>0.0</td>\n",
       "      <td>NaN</td>\n",
       "    </tr>\n",
       "    <tr>\n",
       "      <th>2</th>\n",
       "      <td>AAPL</td>\n",
       "      <td>2024-01-04 00:00:00-05:00</td>\n",
       "      <td>181.062899</td>\n",
       "      <td>181.997291</td>\n",
       "      <td>179.800489</td>\n",
       "      <td>180.824341</td>\n",
       "      <td>71983600.0</td>\n",
       "      <td>0.0</td>\n",
       "      <td>0.0</td>\n",
       "      <td>NaN</td>\n",
       "    </tr>\n",
       "    <tr>\n",
       "      <th>3</th>\n",
       "      <td>AAPL</td>\n",
       "      <td>2024-01-05 00:00:00-05:00</td>\n",
       "      <td>180.903888</td>\n",
       "      <td>181.669281</td>\n",
       "      <td>179.094742</td>\n",
       "      <td>180.098709</td>\n",
       "      <td>62303300.0</td>\n",
       "      <td>0.0</td>\n",
       "      <td>0.0</td>\n",
       "      <td>NaN</td>\n",
       "    </tr>\n",
       "    <tr>\n",
       "      <th>4</th>\n",
       "      <td>AAPL</td>\n",
       "      <td>2024-01-08 00:00:00-05:00</td>\n",
       "      <td>181.003268</td>\n",
       "      <td>184.492330</td>\n",
       "      <td>180.416793</td>\n",
       "      <td>184.452560</td>\n",
       "      <td>59144500.0</td>\n",
       "      <td>0.0</td>\n",
       "      <td>0.0</td>\n",
       "      <td>NaN</td>\n",
       "    </tr>\n",
       "  </tbody>\n",
       "</table>\n",
       "</div>"
      ],
      "text/plain": [
       "  Ticker                       Date        Open        High         Low  \\\n",
       "0   AAPL  2024-01-02 00:00:00-05:00  186.033057  187.315366  182.792518   \n",
       "1   AAPL  2024-01-03 00:00:00-05:00  183.120571  184.770668  182.335277   \n",
       "2   AAPL  2024-01-04 00:00:00-05:00  181.062899  181.997291  179.800489   \n",
       "3   AAPL  2024-01-05 00:00:00-05:00  180.903888  181.669281  179.094742   \n",
       "4   AAPL  2024-01-08 00:00:00-05:00  181.003268  184.492330  180.416793   \n",
       "\n",
       "        Close      Volume  Dividends  Stock Splits  Adj Close  \n",
       "0  184.532074  82488700.0        0.0           0.0        NaN  \n",
       "1  183.150391  58414500.0        0.0           0.0        NaN  \n",
       "2  180.824341  71983600.0        0.0           0.0        NaN  \n",
       "3  180.098709  62303300.0        0.0           0.0        NaN  \n",
       "4  184.452560  59144500.0        0.0           0.0        NaN  "
      ]
     },
     "execution_count": 15,
     "metadata": {},
     "output_type": "execute_result"
    }
   ],
   "source": [
    "df = pd.read_csv(\"sp100_daily_combined.csv\")\n",
    "df.head()"
   ]
  },
  {
   "cell_type": "code",
   "execution_count": 19,
   "id": "8b53fbe9-3625-4eb5-b11b-c0c7c1ecc3d5",
   "metadata": {},
   "outputs": [],
   "source": [
    "adj_close = combined_data[\"Close\"].unstack(level=0)  # Pivot by ticker\n",
    "adj_close[\"SP100_EqualWeight\"] = adj_close.mean(axis=1)"
   ]
  },
  {
   "cell_type": "code",
   "execution_count": 18,
   "id": "df27ca73-9b0b-443f-bb1e-c2d4888bc071",
   "metadata": {},
   "outputs": [
    {
     "name": "stdout",
     "output_type": "stream",
     "text": [
      "Ticker                           AAPL        ABBV         ABT         ACN  \\\n",
      "Date                                                                        \n",
      "2024-01-02 00:00:00-05:00  184.532074  152.743423  107.138481  341.431366   \n",
      "2024-01-03 00:00:00-05:00  183.150391  153.355042  106.816628  332.573761   \n",
      "2024-01-04 00:00:00-05:00  180.824341  154.310776  108.240585  331.756866   \n",
      "2024-01-05 00:00:00-05:00  180.098709  154.960678  108.065033  331.294312   \n",
      "2024-01-08 00:00:00-05:00  184.452560  154.282104  109.625534  334.965271   \n",
      "...                               ...         ...         ...         ...   \n",
      "2024-12-23 00:00:00-05:00  254.989655  176.723465  113.713264  358.769989   \n",
      "2024-12-24 00:00:00-05:00  257.916443  178.318420  114.160919  361.630005   \n",
      "2024-12-26 00:00:00-05:00  258.735504  177.525894  114.668251  360.429993   \n",
      "2024-12-27 00:00:00-05:00  255.309296  176.347015  114.389717  356.179993   \n",
      "2024-12-30 00:00:00-05:00  251.923019  174.553925  112.211151  352.489990   \n",
      "\n",
      "Ticker                           ADBE        AIG         AMD        AMGN  \\\n",
      "Date                                                                       \n",
      "2024-01-02 00:00:00-05:00  580.070007  67.074501  138.580002  286.354279   \n",
      "2024-01-03 00:00:00-05:00  571.789978  66.850403  135.320007  289.531769   \n",
      "2024-01-04 00:00:00-05:00  567.049988  66.869888  136.009995  291.919739   \n",
      "2024-01-05 00:00:00-05:00  564.599976  67.240143  138.580002  291.756012   \n",
      "2024-01-08 00:00:00-05:00  580.549988  66.470406  146.179993  299.343628   \n",
      "...                               ...        ...         ...         ...   \n",
      "2024-12-23 00:00:00-05:00  446.739990  72.121292  124.599998  261.884247   \n",
      "2024-12-24 00:00:00-05:00  447.940002  72.489510  126.290001  262.370300   \n",
      "2024-12-26 00:00:00-05:00  450.160004  72.987099  125.059998  261.070801   \n",
      "2024-12-27 00:00:00-05:00  446.480011  72.648743  125.190002  260.545044   \n",
      "2024-12-30 00:00:00-05:00  445.799988  72.200912  122.440002  257.221893   \n",
      "\n",
      "Ticker                            AMT        AMZN  ...         UNH  \\\n",
      "Date                                               ...               \n",
      "2024-01-02 00:00:00-05:00  211.642960  149.929993  ...  528.766052   \n",
      "2024-01-03 00:00:00-05:00  207.657913  148.470001  ...  531.403381   \n",
      "2024-01-04 00:00:00-05:00  208.402679  144.570007  ...  534.726807   \n",
      "2024-01-05 00:00:00-05:00  207.261322  145.240005  ...  526.844482   \n",
      "2024-01-08 00:00:00-05:00  209.002365  149.100006  ...  526.001343   \n",
      "...                               ...         ...  ...         ...   \n",
      "2024-12-23 00:00:00-05:00  182.756485  225.059998  ...  504.185272   \n",
      "2024-12-24 00:00:00-05:00  183.083588  229.050003  ...  503.946320   \n",
      "2024-12-26 00:00:00-05:00  182.360001  227.050003  ...  508.974823   \n",
      "2024-12-27 00:00:00-05:00  181.869995  223.750000  ...  507.819733   \n",
      "2024-12-30 00:00:00-05:00  181.919998  221.300003  ...  505.639069   \n",
      "\n",
      "Ticker                            UNP         UPS        USB           V  \\\n",
      "Date                                                                       \n",
      "2024-01-02 00:00:00-05:00  236.856384  148.922607  41.968719  256.474731   \n",
      "2024-01-03 00:00:00-05:00  235.173111  148.170181  40.860004  255.592987   \n",
      "2024-01-04 00:00:00-05:00  234.550400  147.652893  41.299667  257.207855   \n",
      "2024-01-05 00:00:00-05:00  233.431442  149.279984  41.873138  257.287201   \n",
      "2024-01-08 00:00:00-05:00  234.122253  150.408630  42.016510  260.110779   \n",
      "...                               ...         ...        ...         ...   \n",
      "2024-12-23 00:00:00-05:00  225.888092  123.975525  47.819275  316.687134   \n",
      "2024-12-24 00:00:00-05:00  228.493759  124.478325  48.323994  320.111359   \n",
      "2024-12-26 00:00:00-05:00  228.971130  124.576912  48.502125  320.370941   \n",
      "2024-12-27 00:00:00-05:00  228.672775  124.330444  47.987514  318.124695   \n",
      "2024-12-30 00:00:00-05:00  226.544479  123.551590  47.750000  314.780334   \n",
      "\n",
      "Ticker                            VZ        WFC        WMT         XOM  \\\n",
      "Date                                                                     \n",
      "2024-01-02 00:00:00-05:00  35.816391  47.823631  52.324093   98.106003   \n",
      "2024-01-03 00:00:00-05:00  36.074329  47.193470  52.327377   98.930260   \n",
      "2024-01-04 00:00:00-05:00  36.267780  47.775150  51.821514   98.067665   \n",
      "2024-01-05 00:00:00-05:00  37.032383  48.395607  51.476604   98.364784   \n",
      "2024-01-08 00:00:00-05:00  36.940258  48.395607  51.982468   96.725845   \n",
      "...                              ...        ...        ...         ...   \n",
      "2024-12-23 00:00:00-05:00  39.244587  70.193451  90.102570  105.357613   \n",
      "2024-12-24 00:00:00-05:00  39.107025  71.238289  92.426186  105.456718   \n",
      "2024-12-26 00:00:00-05:00  39.264240  71.407463  92.535889  105.545921   \n",
      "2024-12-27 00:00:00-05:00  39.224934  70.760651  91.408981  105.536011   \n",
      "2024-12-30 00:00:00-05:00  38.910507  70.064095  90.321968  104.822395   \n",
      "\n",
      "Ticker                     SP100_EqualWeight  \n",
      "Date                                          \n",
      "2024-01-02 00:00:00-05:00         225.767590  \n",
      "2024-01-03 00:00:00-05:00         223.272290  \n",
      "2024-01-04 00:00:00-05:00         223.220281  \n",
      "2024-01-05 00:00:00-05:00         223.353493  \n",
      "2024-01-08 00:00:00-05:00         226.062846  \n",
      "...                                      ...  \n",
      "2024-12-23 00:00:00-05:00         284.172957  \n",
      "2024-12-24 00:00:00-05:00         287.384518  \n",
      "2024-12-26 00:00:00-05:00         287.083722  \n",
      "2024-12-27 00:00:00-05:00         284.336689  \n",
      "2024-12-30 00:00:00-05:00         281.143547  \n",
      "\n",
      "[251 rows x 101 columns]\n"
     ]
    }
   ],
   "source": [
    "print(adj_close) # closes of each stock per day\n",
    "#Our main data for this project *muscle emoji*"
   ]
  },
  {
   "cell_type": "code",
   "execution_count": 25,
   "id": "555da6b8-d0ca-4ef5-8adb-1bf7cb395874",
   "metadata": {},
   "outputs": [
    {
     "data": {
      "image/png": "[encoded data removed]",
      "text/plain": [
       "<Figure size 1200x600 with 1 Axes>"
      ]
     },
     "metadata": {},
     "output_type": "display_data"
    }
   ],
   "source": [
    "plt.figure(figsize=(12, 6))\n",
    "sns.lineplot(data=adj_close, x=adj_close.index, y=\"SP100_EqualWeight\", \n",
    "             label=\"S&P 100 (Equal-Weighted)\", color=\"red\")\n",
    "plt.title(\"Custom S&P 100 Index (Equal-Weighted)\")\n",
    "plt.ylabel(\"Price ($)\")\n",
    "plt.grid(True)\n",
    "plt.ylim(200,300)\n",
    "plt.show()"
   ]
  }
 ],
 "metadata": {
  "kernelspec": {
   "display_name": "Python 3 (ipykernel)",
   "language": "python",
   "name": "python3"
  },
  "language_info": {
   "codemirror_mode": {
    "name": "ipython",
    "version": 3
   },
   "file_extension": ".py",
   "mimetype": "text/x-python",
   "name": "python",
   "nbconvert_exporter": "python",
   "pygments_lexer": "ipython3",
   "version": "3.12.4"
  }
 },
 "nbformat": 4,
 "nbformat_minor": 5
}
